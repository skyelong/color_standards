{
 "cells": [
  {
   "cell_type": "code",
   "execution_count": 36,
   "metadata": {},
   "outputs": [],
   "source": [
    "import cv2\n",
    "import matplotlib.pyplot as plt\n",
    "import numpy as np\n",
    "from mpl_toolkits.mplot3d import Axes3D\n",
    "from matplotlib import cm\n",
    "from matplotlib import colors"
   ]
  },
  {
   "cell_type": "code",
   "execution_count": 209,
   "metadata": {},
   "outputs": [],
   "source": [
    "red = cv2.imread('goldfinch.png')"
   ]
  },
  {
   "cell_type": "code",
   "execution_count": 178,
   "metadata": {},
   "outputs": [
    {
     "data": {
      "text/plain": [
       "array([144,  89,  86], dtype=uint8)"
      ]
     },
     "execution_count": 178,
     "metadata": {},
     "output_type": "execute_result"
    }
   ],
   "source": [
    "red[0][0]"
   ]
  },
  {
   "cell_type": "code",
   "execution_count": 210,
   "metadata": {},
   "outputs": [],
   "source": [
    "red_RGB = cv2.cvtColor(red, cv2.COLOR_BGR2RGB)"
   ]
  },
  {
   "cell_type": "code",
   "execution_count": 203,
   "metadata": {},
   "outputs": [
    {
     "data": {
      "text/plain": [
       "array([[[ 66,  68, 126],\n",
       "        [ 39,  39, 124],\n",
       "        [ 40,  42, 137],\n",
       "        ...,\n",
       "        [221, 219, 206],\n",
       "        [228, 226, 204],\n",
       "        [224, 222, 194]],\n",
       "\n",
       "       [[ 60,  64, 132],\n",
       "        [ 42,  46, 142],\n",
       "        [ 40,  44, 149],\n",
       "        ...,\n",
       "        [203, 206, 194],\n",
       "        [226, 227, 205],\n",
       "        [231, 229, 199]],\n",
       "\n",
       "       [[ 55,  60, 135],\n",
       "        [ 32,  34, 137],\n",
       "        [ 29,  29, 140],\n",
       "        ...,\n",
       "        [195, 199, 192],\n",
       "        [222, 224, 203],\n",
       "        [228, 226, 195]],\n",
       "\n",
       "       ...,\n",
       "\n",
       "       [[210, 209, 210],\n",
       "        [194, 196, 211],\n",
       "        [174, 175, 200],\n",
       "        ...,\n",
       "        [234, 228, 196],\n",
       "        [237, 229, 198],\n",
       "        [235, 224, 196]],\n",
       "\n",
       "       [[224, 221, 211],\n",
       "        [218, 218, 214],\n",
       "        [214, 213, 218],\n",
       "        ...,\n",
       "        [230, 226, 191],\n",
       "        [233, 226, 195],\n",
       "        [234, 225, 198]],\n",
       "\n",
       "       [[231, 226, 205],\n",
       "        [229, 225, 205],\n",
       "        [225, 222, 207],\n",
       "        ...,\n",
       "        [228, 224, 189],\n",
       "        [232, 226, 195],\n",
       "        [233, 226, 200]]], dtype=uint8)"
      ]
     },
     "execution_count": 203,
     "metadata": {},
     "output_type": "execute_result"
    }
   ],
   "source": [
    "red_RGB"
   ]
  },
  {
   "cell_type": "code",
   "execution_count": 211,
   "metadata": {},
   "outputs": [
    {
     "data": {
      "text/plain": [
       "<matplotlib.image.AxesImage at 0x127533d90>"
      ]
     },
     "execution_count": 211,
     "metadata": {},
     "output_type": "execute_result"
    },
    {
     "data": {
      "image/png": "[encoded data removed]",
      "text/plain": [
       "<Figure size 432x288 with 1 Axes>"
      ]
     },
     "metadata": {
      "needs_background": "light"
     },
     "output_type": "display_data"
    }
   ],
   "source": [
    "plt.imshow(red_RGB)"
   ]
  },
  {
   "cell_type": "code",
   "execution_count": 212,
   "metadata": {},
   "outputs": [],
   "source": [
    "red_LAB = cv2.cvtColor(red_RGB, cv2.COLOR_RGB2Lab)"
   ]
  },
  {
   "cell_type": "code",
   "execution_count": 213,
   "metadata": {},
   "outputs": [
    {
     "data": {
      "text/plain": [
       "array([[[186, 128, 192],\n",
       "        [185, 127, 192],\n",
       "        [185, 127, 192],\n",
       "        ...,\n",
       "        [155, 129, 181],\n",
       "        [155, 130, 181],\n",
       "        [158, 130, 180]],\n",
       "\n",
       "       [[189, 128, 192],\n",
       "        [185, 127, 192],\n",
       "        [180, 128, 192],\n",
       "        ...,\n",
       "        [162, 129, 183],\n",
       "        [160, 129, 182],\n",
       "        [165, 129, 182]],\n",
       "\n",
       "       [[187, 128, 192],\n",
       "        [187, 128, 193],\n",
       "        [179, 128, 191],\n",
       "        ...,\n",
       "        [173, 129, 184],\n",
       "        [170, 128, 183],\n",
       "        [159, 129, 182]],\n",
       "\n",
       "       ...,\n",
       "\n",
       "       [[183, 131, 194],\n",
       "        [187, 131, 194],\n",
       "        [182, 130, 192],\n",
       "        ...,\n",
       "        [164, 132, 184],\n",
       "        [165, 132, 184],\n",
       "        [166, 132, 184]],\n",
       "\n",
       "       [[196, 128, 197],\n",
       "        [188, 129, 195],\n",
       "        [189, 129, 193],\n",
       "        ...,\n",
       "        [164, 132, 184],\n",
       "        [166, 132, 184],\n",
       "        [167, 132, 184]],\n",
       "\n",
       "       [[193, 126, 196],\n",
       "        [187, 127, 195],\n",
       "        [192, 130, 194],\n",
       "        ...,\n",
       "        [164, 132, 184],\n",
       "        [165, 132, 184],\n",
       "        [168, 131, 184]]], dtype=uint8)"
      ]
     },
     "execution_count": 213,
     "metadata": {},
     "output_type": "execute_result"
    }
   ],
   "source": [
    "red_LAB"
   ]
  },
  {
   "cell_type": "code",
   "execution_count": 214,
   "metadata": {},
   "outputs": [],
   "source": [
    "red_HSV = cv2.cvtColor(red_RGB, cv2.COLOR_RGB2HSV)"
   ]
  },
  {
   "cell_type": "code",
   "execution_count": 215,
   "metadata": {},
   "outputs": [
    {
     "data": {
      "text/plain": [
       "23.34644957033017"
      ]
     },
     "execution_count": 215,
     "metadata": {},
     "output_type": "execute_result"
    }
   ],
   "source": [
    "red_HSV[:,:,0].mean()"
   ]
  }
 ],
 "metadata": {
  "kernelspec": {
   "display_name": "Python 3",
   "language": "python",
   "name": "python3"
  },
  "language_info": {
   "codemirror_mode": {
    "name": "ipython",
    "version": 3
   },
   "file_extension": ".py",
   "mimetype": "text/x-python",
   "name": "python",
   "nbconvert_exporter": "python",
   "pygments_lexer": "ipython3",
   "version": "3.7.7"
  }
 },
 "nbformat": 4,
 "nbformat_minor": 4
}
